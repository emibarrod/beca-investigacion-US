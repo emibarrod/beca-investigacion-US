{
 "cells": [
  {
   "cell_type": "code",
   "execution_count": 20,
   "metadata": {},
   "outputs": [],
   "source": [
    "import numpy as np\n",
    "import matplotlib.pyplot as plt\n",
    "from procesadoDatosDemandaString import procesar_datos_string \n",
    "from sklearn.cluster import KMeans\n",
    "import pandas as pd\n",
    "from sklearn.preprocessing import normalize\n",
    "from sklearn.metrics import silhouette_score"
   ]
  },
  {
   "cell_type": "code",
   "execution_count": 22,
   "metadata": {},
   "outputs": [
    {
     "name": "stdout",
     "output_type": "stream",
     "text": [
      "Archivo donde están los datos de la demanda (sin extensión): demanda\n"
     ]
    }
   ],
   "source": [
    "datos = procesar_datos_string()\n",
    "datos"
   ]
  },
  {
   "cell_type": "code",
   "execution_count": 23,
   "metadata": {
    "scrolled": true
   },
   "outputs": [],
   "source": [
    "datos = datos.T\n",
    "labels = list(datos.index)"
   ]
  },
  {
   "cell_type": "code",
   "execution_count": 25,
   "metadata": {},
   "outputs": [],
   "source": [
    "datos = datos.to_numpy()"
   ]
  },
  {
   "cell_type": "code",
   "execution_count": 26,
   "metadata": {},
   "outputs": [],
   "source": [
    "datos = normalize(datos)"
   ]
  },
  {
   "cell_type": "code",
   "execution_count": 27,
   "metadata": {},
   "outputs": [
    {
     "data": {
      "text/plain": [
       "1095"
      ]
     },
     "execution_count": 27,
     "metadata": {},
     "output_type": "execute_result"
    }
   ],
   "source": [
    "len(datos[0])"
   ]
  },
  {
   "cell_type": "code",
   "execution_count": 65,
   "metadata": {
    "scrolled": true
   },
   "outputs": [],
   "source": [
    "score_list = []\n",
    "maximo = (0,0)\n",
    "for x in range(2,23):\n",
    "    clusterer = KMeans(n_clusters=x, random_state=1)\n",
    "    cluster_labels = clusterer.fit_predict(datos)\n",
    "    score = silhouette_score(datos, cluster_labels)\n",
    "    score_list.append(score)\n",
    "    if score > maximo[1]:\n",
    "        maximo = (x, score)"
   ]
  },
  {
   "cell_type": "code",
   "execution_count": 66,
   "metadata": {},
   "outputs": [
    {
     "data": {
      "text/plain": [
       "<BarContainer object of 21 artists>"
      ]
     },
     "execution_count": 66,
     "metadata": {},
     "output_type": "execute_result"
    },
    {
     "data": {
      "image/png": "[encoded data removed]",
      "text/plain": [
       "<Figure size 432x288 with 1 Axes>"
      ]
     },
     "metadata": {
      "needs_background": "light"
     },
     "output_type": "display_data"
    }
   ],
   "source": [
    "plt.xlabel(\"Number of clusters\")\n",
    "plt.ylabel(\"Silhouette Score\")\n",
    "plt.bar([i for i in range(2,23)], score_list)\n",
    "print(\"El maximo se obtiene en el nodo {} con una puntuacion de {}\".format(maximo[0], maximo[1]))"
   ]
  },
  {
   "cell_type": "code",
   "execution_count": null,
   "metadata": {},
   "outputs": [],
   "source": [
    "# y_pred te da a que cluster pertenece cada dia\n",
    "# y_pred = KMeans(n_clusters=4, random_state=1).fit_predict(datos)\n",
    "\n",
    "# len(y_pred)\n",
    "\n",
    "#hora_cluster = {}\n",
    "#for i in range(len(labels)):\n",
    "#    hora_cluster[labels[i]] = y_pred[i]\n",
    "\n",
    "#hora_cluster\n",
    "\n",
    "#plt.figure(figsize=(10, 10))\n",
    "#plt.scatter(hora_cluster.keys(), hora_cluster.values(), c=y_pred)"
   ]
  }
 ],
 "metadata": {
  "kernelspec": {
   "display_name": "Python 3",
   "language": "python",
   "name": "python3"
  },
  "language_info": {
   "codemirror_mode": {
    "name": "ipython",
    "version": 3
   },
   "file_extension": ".py",
   "mimetype": "text/x-python",
   "name": "python",
   "nbconvert_exporter": "python",
   "pygments_lexer": "ipython3",
   "version": "3.7.6"
  }
 },
 "nbformat": 4,
 "nbformat_minor": 4
}
