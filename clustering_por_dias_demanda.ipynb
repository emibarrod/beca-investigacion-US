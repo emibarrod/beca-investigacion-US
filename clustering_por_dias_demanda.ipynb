{
 "cells": [
  {
   "cell_type": "code",
   "execution_count": 1,
   "metadata": {},
   "outputs": [],
   "source": [
    "import numpy as np\n",
    "import matplotlib.pyplot as plt\n",
    "from procesadoDatosDemandaString import procesar_datos_string \n",
    "from sklearn.cluster import KMeans\n",
    "import pandas as pd\n",
    "from sklearn.preprocessing import normalize\n",
    "from sklearn.metrics import silhouette_score"
   ]
  },
  {
   "cell_type": "code",
   "execution_count": 2,
   "metadata": {},
   "outputs": [
    {
     "name": "stdout",
     "output_type": "stream",
     "text": [
      "Archivo donde están los datos de la demanda (sin extensión): demanda\n"
     ]
    }
   ],
   "source": [
    "datos = procesar_datos_string()\n",
    "datos\n",
    "labels = list(datos.index)"
   ]
  },
  {
   "cell_type": "code",
   "execution_count": 3,
   "metadata": {},
   "outputs": [],
   "source": [
    "datos = datos.to_numpy()"
   ]
  },
  {
   "cell_type": "code",
   "execution_count": 4,
   "metadata": {
    "scrolled": true
   },
   "outputs": [],
   "source": [
    "datos = normalize(datos)"
   ]
  },
  {
   "cell_type": "code",
   "execution_count": 5,
   "metadata": {},
   "outputs": [
    {
     "data": {
      "text/plain": [
       "24"
      ]
     },
     "execution_count": 5,
     "metadata": {},
     "output_type": "execute_result"
    }
   ],
   "source": [
    "len(datos[0])"
   ]
  },
  {
   "cell_type": "code",
   "execution_count": 15,
   "metadata": {},
   "outputs": [],
   "source": [
    "score_list = []\n",
    "maximo = (0,0)\n",
    "for x in range(2,20):\n",
    "    clusterer = KMeans(n_clusters=x, random_state=1)\n",
    "    cluster_labels = clusterer.fit_predict(datos)\n",
    "    score = silhouette_score(datos, cluster_labels)\n",
    "    score_list.append(score)\n",
    "    if score > maximo[1]:\n",
    "        maximo = (x, score)"
   ]
  },
  {
   "cell_type": "code",
   "execution_count": 22,
   "metadata": {},
   "outputs": [
    {
     "data": {
      "text/plain": [
       "<BarContainer object of 18 artists>"
      ]
     },
     "execution_count": 22,
     "metadata": {},
     "output_type": "execute_result"
    },
    {
     "data": {
      "image/png": "[encoded data removed]",
      "text/plain": [
       "<Figure size 432x288 with 1 Axes>"
      ]
     },
     "metadata": {
      "needs_background": "light"
     },
     "output_type": "display_data"
    }
   ],
   "source": [
    "plt.xlabel(\"Number of clusters\")\n",
    "plt.ylabel(\"Silhouette Score\")\n",
    "plt.bar([x for x in range(2, 20, 1)], score_list)\n",
    "print(\"El maximo se obtiene en el nodo {} con una puntuacion de {}\".format(maximo[0], maximo[1]))"
   ]
  },
  {
   "cell_type": "code",
   "execution_count": 13,
   "metadata": {},
   "outputs": [],
   "source": [
    "\n",
    "# y_pred te da a que cluster pertenece cada dia\n",
    "# y_pred = KMeans(n_clusters=6, random_state=1).fit_predict(datos)\n",
    "\n",
    "#dia_cluster = {}\n",
    "#for i in range(len(labels)):\n",
    "#    dia_cluster[labels[i]] = y_pred[i]\n",
    "\n",
    "#plt.figure(figsize=(100, 100))\n",
    "#plt.scatter(dia_cluster.keys(), dia_cluster.values(), c=y_pred)\n",
    "\n",
    "#dias_invierno = {}\n",
    "#for i in dia_cluster:\n",
    "#    if i[:6] in [\"201712\", \"201801\", \"201802\", \"201803\"]:\n",
    "#        dias_invierno[i] = dia_cluster[i]\n",
    "\n",
    "#dias_cluster_0 = []\n",
    "#for i in dia_cluster:\n",
    "#    if dia_cluster[i] == 0:\n",
    "#        dias_cluster_0.append(i)"
   ]
  }
 ],
 "metadata": {
  "kernelspec": {
   "display_name": "Python 3",
   "language": "python",
   "name": "python3"
  },
  "language_info": {
   "codemirror_mode": {
    "name": "ipython",
    "version": 3
   },
   "file_extension": ".py",
   "mimetype": "text/x-python",
   "name": "python",
   "nbconvert_exporter": "python",
   "pygments_lexer": "ipython3",
   "version": "3.7.6"
  }
 },
 "nbformat": 4,
 "nbformat_minor": 4
}
