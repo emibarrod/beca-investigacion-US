{
 "cells": [
  {
   "cell_type": "code",
   "execution_count": 1,
   "metadata": {},
   "outputs": [],
   "source": [
    "import numpy as np\n",
    "import matplotlib.pyplot as plt\n",
    "from procesadoDatosDemandaString import procesar_datos_string \n",
    "from sklearn.cluster import KMeans\n",
    "import pandas as pd\n",
    "from sklearn.preprocessing import normalize\n",
    "from sklearn.metrics import silhouette_score"
   ]
  },
  {
   "cell_type": "code",
   "execution_count": 2,
   "metadata": {},
   "outputs": [
    {
     "name": "stdout",
     "output_type": "stream",
     "text": [
      "Archivo donde están los datos de la demanda (sin extensión): demanda\n"
     ]
    }
   ],
   "source": [
    "datos = procesar_datos_string()\n",
    "datos\n",
    "labels = list(datos.index)"
   ]
  },
  {
   "cell_type": "code",
   "execution_count": 3,
   "metadata": {},
   "outputs": [],
   "source": [
    "datos = datos.to_numpy()"
   ]
  },
  {
   "cell_type": "code",
   "execution_count": 4,
   "metadata": {
    "scrolled": true
   },
   "outputs": [],
   "source": [
    "datos = normalize(datos)"
   ]
  },
  {
   "cell_type": "code",
   "execution_count": 5,
   "metadata": {},
   "outputs": [
    {
     "data": {
      "text/plain": [
       "24"
      ]
     },
     "execution_count": 5,
     "metadata": {},
     "output_type": "execute_result"
    }
   ],
   "source": [
    "len(datos[0])"
   ]
  },
  {
   "cell_type": "code",
   "execution_count": 6,
   "metadata": {},
   "outputs": [],
   "source": [
    "score_list = []\n",
    "maximo = (0,0)\n",
    "for x in range(2,20):\n",
    "    clusterer = KMeans(n_clusters=x, random_state=1)\n",
    "    cluster_labels = clusterer.fit_predict(datos)\n",
    "    score = silhouette_score(datos, cluster_labels)\n",
    "    score_list.append(score)\n",
    "    if score > maximo[1]:\n",
    "        maximo = (x, score)"
   ]
  },
  {
   "cell_type": "code",
   "execution_count": 7,
   "metadata": {
    "scrolled": true
   },
   "outputs": [
    {
     "name": "stdout",
     "output_type": "stream",
     "text": [
      "El maximo se obtiene en el nodo 2 con una puntuacion de 0.46844713925624687\n"
     ]
    },
    {
     "data": {
      "image/png": "[encoded data removed]",
      "text/plain": [
       "<Figure size 432x288 with 1 Axes>"
      ]
     },
     "metadata": {
      "needs_background": "light"
     },
     "output_type": "display_data"
    }
   ],
   "source": [
    "plt.xlabel(\"Number of clusters\")\n",
    "plt.ylabel(\"Silhouette Score\")\n",
    "plt.bar([x for x in range(2, 20, 1)], score_list)\n",
    "print(\"El maximo se obtiene en el nodo {} con una puntuacion de {}\".format(maximo[0], maximo[1]))"
   ]
  },
  {
   "cell_type": "code",
   "execution_count": 8,
   "metadata": {},
   "outputs": [],
   "source": [
    "clusterer = KMeans(n_clusters=6, random_state=1)\n",
    "cluster_labels = clusterer.fit_predict(datos)"
   ]
  },
  {
   "cell_type": "code",
   "execution_count": 9,
   "metadata": {},
   "outputs": [
    {
     "data": {
      "text/plain": [
       "{'0': 89, '1': 282, '2': 106, '3': 146, '4': 211, '5': 261}"
      ]
     },
     "execution_count": 9,
     "metadata": {},
     "output_type": "execute_result"
    }
   ],
   "source": [
    "dia_cluster = {}\n",
    "for (i, j) in enumerate(labels):\n",
    "    dia_cluster[j] = cluster_labels[i]\n",
    "dia_cluster\n",
    "\n",
    "dic_cluster = {\"0\":0, \"1\":0, \"2\":0, \"3\":0, \"4\":0, \"5\":0}\n",
    "for j in cluster_labels:\n",
    "    if j == 0:\n",
    "        dic_cluster[\"0\"]+=1\n",
    "    elif j == 1:\n",
    "        dic_cluster[\"1\"]+=1\n",
    "    elif j == 2:\n",
    "        dic_cluster[\"2\"]+=1\n",
    "    elif j == 3:\n",
    "        dic_cluster[\"3\"]+=1\n",
    "    elif j == 4:\n",
    "        dic_cluster[\"4\"]+=1\n",
    "    elif j == 5:\n",
    "        dic_cluster[\"5\"]+=1\n",
    "\n",
    "dic_cluster\n"
   ]
  },
  {
   "cell_type": "code",
   "execution_count": 10,
   "metadata": {},
   "outputs": [
    {
     "data": {
      "text/plain": [
       "80"
      ]
     },
     "execution_count": 10,
     "metadata": {},
     "output_type": "execute_result"
    }
   ],
   "source": [
    "festivos_2017 = ['20170101',\n",
    "                '20170106',\n",
    "                '20170202',\n",
    "                '20170228',\n",
    "                '20170301',\n",
    "                '20170319',\n",
    "                '20170326',\n",
    "                '20170409',\n",
    "                '20170410',\n",
    "                '20170411',\n",
    "                '20170412',\n",
    "                '20170413',\n",
    "                '20170414',\n",
    "                '20170415',\n",
    "                '20170416',\n",
    "                '20170417',\n",
    "                '20170501',\n",
    "                '20170515',\n",
    "                '20170605',\n",
    "                '20170615',\n",
    "                '20170813',\n",
    "                '20170815',\n",
    "                '20171012',\n",
    "                '20171101',\n",
    "                '20171206',\n",
    "                '20171208',\n",
    "                '20171225']\n",
    "\n",
    "festivos_2018 = ['20180101',\n",
    "                '20180106',\n",
    "                '20180202',\n",
    "                '20180211',\n",
    "                '20180228',\n",
    "                '20180301',\n",
    "                '20180319',\n",
    "                '20180409',\n",
    "                '20180410',\n",
    "                '20180411',\n",
    "                '20180412',\n",
    "                '20180413',\n",
    "                '20180414',\n",
    "                '20180415',\n",
    "                '20180416',\n",
    "                '20180417',\n",
    "                '20180501',\n",
    "                '20180515',\n",
    "                '20180605',\n",
    "                '20180615',\n",
    "                '20180813',\n",
    "                '20180815',\n",
    "                '20181012',\n",
    "                '20181101',\n",
    "                '20181206',\n",
    "                '20181208',\n",
    "                '20181225']\n",
    "\n",
    "festivos_2019 = ['20190101',\n",
    "                '20190106',\n",
    "                '20190202',\n",
    "                '20190211',\n",
    "                '20190228',\n",
    "                '20190301',\n",
    "                '20190319',\n",
    "                '20190414',\n",
    "                '20190415',\n",
    "                '20190416',\n",
    "                '20190417',\n",
    "                '20190418',\n",
    "                '20190419',\n",
    "                '20190420',\n",
    "                '20190421',\n",
    "                '20190422',\n",
    "                '20190501',\n",
    "                '20190515',\n",
    "                '20190620',\n",
    "                '20190725',\n",
    "                '20190815',\n",
    "                '20191012',\n",
    "                '20191101',\n",
    "                '20191206',\n",
    "                '20191208',\n",
    "                '20191225']\n",
    "\n",
    "festivos = festivos_2017 + festivos_2018 + festivos_2019\n",
    "len(festivos)"
   ]
  },
  {
   "cell_type": "code",
   "execution_count": 11,
   "metadata": {},
   "outputs": [
    {
     "name": "stdout",
     "output_type": "stream",
     "text": [
      "En el cluster 1:  16\n",
      "En el cluster 2:  10\n",
      "En el cluster 3:  16\n",
      "En el cluster 4:  12\n",
      "En el cluster 5:  5\n",
      "En el cluster 6:  21\n"
     ]
    }
   ],
   "source": [
    "# Para dias festivos y no festivos\n",
    "cluster1 = 0\n",
    "cluster2 = 0\n",
    "cluster3 = 0\n",
    "cluster4 = 0\n",
    "cluster5 = 0\n",
    "cluster6 = 0\n",
    "for i in dia_cluster:\n",
    "    if i in festivos and dia_cluster[i]==0:\n",
    "        cluster1+=1\n",
    "    elif i in festivos and dia_cluster[i]==1:\n",
    "        cluster2+=1\n",
    "    elif i in festivos and dia_cluster[i]==2:\n",
    "        cluster3+=1\n",
    "    elif i in festivos and dia_cluster[i]==3:\n",
    "        cluster4+=1\n",
    "    elif i in festivos and dia_cluster[i]==4:\n",
    "        cluster5+=1\n",
    "    elif i in festivos and dia_cluster[i]==5:\n",
    "        cluster6+=1\n",
    "print(\"En el cluster 1: \", cluster1)\n",
    "print(\"En el cluster 2: \", cluster2)\n",
    "print(\"En el cluster 3: \", cluster3)\n",
    "print(\"En el cluster 4: \", cluster4)\n",
    "print(\"En el cluster 5: \", cluster5)\n",
    "print(\"En el cluster 6: \", cluster6)"
   ]
  },
  {
   "cell_type": "code",
   "execution_count": 12,
   "metadata": {},
   "outputs": [
    {
     "data": {
      "text/plain": [
       "284"
      ]
     },
     "execution_count": 12,
     "metadata": {},
     "output_type": "execute_result"
    }
   ],
   "source": [
    "# Dias de verano\n",
    "\n",
    "junio_2017 = [\"201706\" +str(x).zfill(2) for x in range(21,31)]\n",
    "julio_2017 = [\"201707\" + str(x).zfill(2) for x in range(1,32)]\n",
    "agosto_2017 = [\"201708\" + str(x).zfill(2) for x in range(1,32)]\n",
    "septiembre_2017 = [\"201709\" + str(x).zfill(2) for x in range(1,23)]\n",
    "\n",
    "lista_verano = junio_2017 + julio_2017 + agosto_2017 + septiembre_2017\n",
    "\n",
    "junio_2018 = [\"201806\" +str(x).zfill(2) for x in range(21,31)]\n",
    "julio_2018 = [\"201807\" + str(x).zfill(2) for x in range(1,32)]\n",
    "agosto_2018 = [\"201808\" + str(x).zfill(2) for x in range(1,32)]\n",
    "septiembre_2018 = [\"201809\" + str(x).zfill(2) for x in range(1,24)]\n",
    "\n",
    "lista_verano = lista_verano + junio_2018 + julio_2018 + agosto_2018 + septiembre_2018\n",
    "\n",
    "junio_2019 = [\"201906\" +str(x).zfill(2) for x in range(21,31)]\n",
    "julio_2019 = [\"201907\" + str(x).zfill(2) for x in range(1,32)]\n",
    "agosto_2019 = [\"201908\" + str(x).zfill(2) for x in range(1,32)]\n",
    "septiembre_2019 = [\"201909\" + str(x).zfill(2) for x in range(1,24)]\n",
    "\n",
    "lista_verano = lista_verano + junio_2019 + julio_2019 + agosto_2019 + septiembre_2019\n",
    "\n",
    "len(lista_verano)"
   ]
  },
  {
   "cell_type": "code",
   "execution_count": 13,
   "metadata": {},
   "outputs": [
    {
     "name": "stdout",
     "output_type": "stream",
     "text": [
      "En el cluster 1:  0\n",
      "En el cluster 2:  3\n",
      "En el cluster 3:  53\n",
      "En el cluster 4:  33\n",
      "En el cluster 5:  177\n",
      "En el cluster 6:  18\n"
     ]
    }
   ],
   "source": [
    "# Para dias de verano\n",
    "cluster1 = 0\n",
    "cluster2 = 0\n",
    "cluster3 = 0\n",
    "cluster4 = 0\n",
    "cluster5 = 0\n",
    "cluster6 = 0\n",
    "for i in dia_cluster:\n",
    "    if i in lista_verano and dia_cluster[i]==0:\n",
    "        cluster1+=1\n",
    "    elif i in lista_verano and dia_cluster[i]==1:\n",
    "        cluster2+=1\n",
    "    elif i in lista_verano and dia_cluster[i]==2:\n",
    "        cluster3+=1\n",
    "    elif i in lista_verano and dia_cluster[i]==3:\n",
    "        cluster4+=1\n",
    "    elif i in lista_verano and dia_cluster[i]==4:\n",
    "        cluster5+=1\n",
    "    elif i in lista_verano and dia_cluster[i]==5:\n",
    "        cluster6+=1\n",
    "print(\"En el cluster 1: \", cluster1)\n",
    "print(\"En el cluster 2: \", cluster2)\n",
    "print(\"En el cluster 3: \", cluster3)\n",
    "print(\"En el cluster 4: \", cluster4)\n",
    "print(\"En el cluster 5: \", cluster5)\n",
    "print(\"En el cluster 6: \", cluster6)"
   ]
  },
  {
   "cell_type": "code",
   "execution_count": 14,
   "metadata": {},
   "outputs": [
    {
     "data": {
      "text/plain": [
       "189"
      ]
     },
     "execution_count": 14,
     "metadata": {},
     "output_type": "execute_result"
    }
   ],
   "source": [
    "# Dias de invierno\n",
    "\n",
    "diciembre = [\"201712\" +str(x).zfill(2) for x in range(21,32)]\n",
    "enero = [\"201801\" + str(x).zfill(2) for x in range(1,32)]\n",
    "febrero = [\"201802\" + str(x).zfill(2) for x in range(1,29)]\n",
    "marzo = [\"201803\" + str(x).zfill(2) for x in range(1,21)]\n",
    "\n",
    "lista_invierno = diciembre + enero + febrero + marzo\n",
    "\n",
    "diciembre = [\"201812\" +str(x).zfill(2) for x in range(21,32)]\n",
    "enero = [\"201901\" + str(x).zfill(2) for x in range(1,32)]\n",
    "febrero = [\"201902\" + str(x).zfill(2) for x in range(1,29)]\n",
    "marzo = [\"201903\" + str(x).zfill(2) for x in range(1,21)]\n",
    "\n",
    "lista_invierno = lista_invierno + diciembre + enero + febrero + marzo\n",
    "\n",
    "diciembre = [\"201912\" +str(x).zfill(2) for x in range(22,31)]\n",
    "\n",
    "lista_invierno = lista_invierno + diciembre\n",
    "\n",
    "len(lista_invierno)"
   ]
  },
  {
   "cell_type": "code",
   "execution_count": 15,
   "metadata": {},
   "outputs": [
    {
     "name": "stdout",
     "output_type": "stream",
     "text": [
      "En el cluster 1:  37\n",
      "En el cluster 2:  100\n",
      "En el cluster 3:  0\n",
      "En el cluster 4:  23\n",
      "En el cluster 5:  0\n",
      "En el cluster 6:  29\n"
     ]
    }
   ],
   "source": [
    "# Para dias de invierno\n",
    "cluster1 = 0\n",
    "cluster2 = 0\n",
    "cluster3 = 0\n",
    "cluster4 = 0\n",
    "cluster5 = 0\n",
    "cluster6 = 0\n",
    "for i in dia_cluster:\n",
    "    if i in lista_invierno and dia_cluster[i]==0:\n",
    "        cluster1+=1\n",
    "    elif i in lista_invierno and dia_cluster[i]==1:\n",
    "        cluster2+=1\n",
    "    elif i in lista_invierno and dia_cluster[i]==2:\n",
    "        cluster3+=1\n",
    "    elif i in lista_invierno and dia_cluster[i]==3:\n",
    "        cluster4+=1\n",
    "    elif i in lista_invierno and dia_cluster[i]==4:\n",
    "        cluster5+=1\n",
    "    elif i in lista_invierno and dia_cluster[i]==5:\n",
    "        cluster6+=1\n",
    "print(\"En el cluster 1: \", cluster1)\n",
    "print(\"En el cluster 2: \", cluster2)\n",
    "print(\"En el cluster 3: \", cluster3)\n",
    "print(\"En el cluster 4: \", cluster4)\n",
    "print(\"En el cluster 5: \", cluster5)\n",
    "print(\"En el cluster 6: \", cluster6)"
   ]
  },
  {
   "cell_type": "code",
   "execution_count": 16,
   "metadata": {},
   "outputs": [
    {
     "name": "stdout",
     "output_type": "stream",
     "text": [
      "En el cluster 1:  37\n",
      "En el cluster 2:  103\n",
      "En el cluster 3:  53\n",
      "En el cluster 4:  56\n",
      "En el cluster 5:  177\n",
      "En el cluster 6:  47\n"
     ]
    },
    {
     "data": {
      "text/plain": [
       "{'0': 89, '1': 282, '2': 106, '3': 146, '4': 211, '5': 261}"
      ]
     },
     "execution_count": 16,
     "metadata": {},
     "output_type": "execute_result"
    }
   ],
   "source": [
    "lista_verano_invierno = lista_verano + lista_invierno\n",
    "\n",
    "# Para dias de verano o invierno\n",
    "\n",
    "cluster1 = 0\n",
    "cluster2 = 0\n",
    "cluster3 = 0\n",
    "cluster4 = 0\n",
    "cluster5 = 0\n",
    "cluster6 = 0\n",
    "for i in dia_cluster:\n",
    "    if i in lista_verano_invierno and dia_cluster[i]==0:\n",
    "        cluster1+=1\n",
    "    elif i in lista_verano_invierno and dia_cluster[i]==1:\n",
    "        cluster2+=1\n",
    "    elif i in lista_verano_invierno and dia_cluster[i]==2:\n",
    "        cluster3+=1\n",
    "    elif i in lista_verano_invierno and dia_cluster[i]==3:\n",
    "        cluster4+=1\n",
    "    elif i in lista_verano_invierno and dia_cluster[i]==4:\n",
    "        cluster5+=1\n",
    "    elif i in lista_verano_invierno and dia_cluster[i]==5:\n",
    "        cluster6+=1\n",
    "print(\"En el cluster 1: \", cluster1)\n",
    "print(\"En el cluster 2: \", cluster2)\n",
    "print(\"En el cluster 3: \", cluster3)\n",
    "print(\"En el cluster 4: \", cluster4)\n",
    "print(\"En el cluster 5: \", cluster5)\n",
    "print(\"En el cluster 6: \", cluster6)\n",
    "\n",
    "dic_cluster"
   ]
  }
 ],
 "metadata": {
  "kernelspec": {
   "display_name": "Python 3",
   "language": "python",
   "name": "python3"
  },
  "language_info": {
   "codemirror_mode": {
    "name": "ipython",
    "version": 3
   },
   "file_extension": ".py",
   "mimetype": "text/x-python",
   "name": "python",
   "nbconvert_exporter": "python",
   "pygments_lexer": "ipython3",
   "version": "3.7.6"
  }
 },
 "nbformat": 4,
 "nbformat_minor": 4
}
